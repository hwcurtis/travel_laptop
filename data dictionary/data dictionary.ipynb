{
 "cells": [
  {
   "cell_type": "code",
   "execution_count": null,
   "id": "db4012f6",
   "metadata": {},
   "outputs": [],
   "source": [
    "data = {\n",
    "    \"Topic\": \"POTS Subtypes\",\n",
    "    \"Details\": \"POTS symptoms include fatigue, palpitations, and dizziness.\",\n",
    "    \"symptoms\": [\"Fatigue\", \"Palpitations\", \"Dizziness\"],\n",
    "    \"worsening_situations\": [\n",
    "        \"Hot environments\",\n",
    "        \"Standing for long periods\",\n",
    "        \"Strenuous exercise\",\n",
    "        \"Illness (e.g., cold or infection)\",\n",
    "        \"Menstruation\"\n",
    "    ],\n",
    "    \"pot_subtypes\": {\n",
    "        \"Neuropathic POTS\": \"Peripheral denervation (loss of nerve supply) causing poor blood \n",
    "        \"Hyperadrenergic POTS\": \"Overactive sympathetic nervous system with increased norepine\n",
    "        \"Hypovolemic POTS\": \"Reduced blood volume leading to lightheadedness and fatigue\"\n",
    "    },\n",
    "    \"research_summary\": (\n",
    "        \"Researchers have not identified a single cause of POTS. It is believed to have multip\n",
    "        \"and may involve combinations of subtypes. There is growing evidence that POTS can fol\n",
    "    ),\n",
    "    \"dysautonomia_symptoms\": [\n",
    "        \"Balance problems\", \"Nausea\", \"Brain fog\", \"Fainting\", \"Chest pain\", \n",
    "        \"Sweating abnormalities\", \"Heart rate irregularities\", \"Exercise intolerance\"\n",
    "    ],\n",
    "    \"COVID_symptoms\": [\"Fever\", \"Sore throat\", \"Fatigue\", \"Loss of smell\", \"Digestive issues\"]"
   ]
  }
 ],
 "metadata": {
  "language_info": {
   "name": "python"
  }
 },
 "nbformat": 4,
 "nbformat_minor": 5
}
