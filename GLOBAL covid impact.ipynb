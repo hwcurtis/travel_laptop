{
 "cells": [
  {
   "cell_type": "code",
   "execution_count": null,
   "id": "dbd36372",
   "metadata": {},
   "outputs": [
    {
     "data": {
      "application/vnd.microsoft.datawrangler.viewer.v0+json": {
       "columns": [
        {
         "name": "index",
         "rawType": "int64",
         "type": "integer"
        },
        {
         "name": "Topic",
         "rawType": "object",
         "type": "string"
        },
        {
         "name": "Details",
         "rawType": "object",
         "type": "string"
        }
       ],
       "ref": "fe95fb2e-4e90-48a1-aa31-30dcc7226e1d",
       "rows": [
        [
         "0",
         "COVID-19 Global Impact",
         "The COVID-19 pandemic has affected millions worldwide since December 2019."
        ],
        [
         "1",
         "Long-term Effects",
         "Long-term effects are increasingly recognized, even in mild cases."
        ],
        [
         "2",
         "Multi-Organ Involvement",
         "SARS-CoV-2 primarily affects the respiratory system but also impacts the autonomic and central nervous systems."
        ],
        [
         "3",
         "Persistent Symptoms",
         "Neurological and autonomic symptoms may persist after acute infection and can be debilitating."
        ],
        [
         "4",
         "Quality of Life",
         "Autonomic dysfunction can impair long-term health and quality of life in post-COVID patients."
        ]
       ],
       "shape": {
        "columns": 2,
        "rows": 5
       }
      },
      "text/html": [
       "<div>\n",
       "<style scoped>\n",
       "    .dataframe tbody tr th:only-of-type {\n",
       "        vertical-align: middle;\n",
       "    }\n",
       "\n",
       "    .dataframe tbody tr th {\n",
       "        vertical-align: top;\n",
       "    }\n",
       "\n",
       "    .dataframe thead th {\n",
       "        text-align: right;\n",
       "    }\n",
       "</style>\n",
       "<table border=\"1\" class=\"dataframe\">\n",
       "  <thead>\n",
       "    <tr style=\"text-align: right;\">\n",
       "      <th></th>\n",
       "      <th>Topic</th>\n",
       "      <th>Details</th>\n",
       "    </tr>\n",
       "  </thead>\n",
       "  <tbody>\n",
       "    <tr>\n",
       "      <th>0</th>\n",
       "      <td>COVID-19 Global Impact</td>\n",
       "      <td>The COVID-19 pandemic has affected millions wo...</td>\n",
       "    </tr>\n",
       "    <tr>\n",
       "      <th>1</th>\n",
       "      <td>Long-term Effects</td>\n",
       "      <td>Long-term effects are increasingly recognized,...</td>\n",
       "    </tr>\n",
       "    <tr>\n",
       "      <th>2</th>\n",
       "      <td>Multi-Organ Involvement</td>\n",
       "      <td>SARS-CoV-2 primarily affects the respiratory s...</td>\n",
       "    </tr>\n",
       "    <tr>\n",
       "      <th>3</th>\n",
       "      <td>Persistent Symptoms</td>\n",
       "      <td>Neurological and autonomic symptoms may persis...</td>\n",
       "    </tr>\n",
       "    <tr>\n",
       "      <th>4</th>\n",
       "      <td>Quality of Life</td>\n",
       "      <td>Autonomic dysfunction can impair long-term hea...</td>\n",
       "    </tr>\n",
       "  </tbody>\n",
       "</table>\n",
       "</div>"
      ],
      "text/plain": [
       "                     Topic                                            Details\n",
       "0   COVID-19 Global Impact  The COVID-19 pandemic has affected millions wo...\n",
       "1        Long-term Effects  Long-term effects are increasingly recognized,...\n",
       "2  Multi-Organ Involvement  SARS-CoV-2 primarily affects the respiratory s...\n",
       "3      Persistent Symptoms  Neurological and autonomic symptoms may persis...\n",
       "4          Quality of Life  Autonomic dysfunction can impair long-term hea..."
      ]
     },
     "execution_count": 2,
     "metadata": {},
     "output_type": "execute_result"
    }
   ],
   "source": [
    "import pandas as pd\n",
    "from io import StringIO\n",
    "\n",
    "# the start of the story with information on Covid and Pots and the importance of understanding their relationship\n",
    "# This code snippet creates a DataFrame from a CSV string containing information about COVID-19 and POTS (Postural Orthostatic Tachycardia Syndrome).\n",
    "# The DataFrame includes topics such as the global impact of COVID-19, long-term effects, multi-organ involvement, persistent symptoms, quality of life, and the association with POTS.\n",
    "# It also covers symptoms, diagnosis, treatment options, and the need for ongoing research in this\n",
    "\n",
    "csv_data = \"\"\"Topic,Details\n",
    "COVID-19 Global Impact,\"The COVID-19 pandemic has affected millions worldwide since December 2019.\"\n",
    "Long-term Effects,\"Long-term effects are increasingly recognized, even in mild cases.\"\n",
    "Multi-Organ Involvement,\"SARS-CoV-2 primarily affects the respiratory system but also impacts the autonomic and central nervous systems.\"\n",
    "Persistent Symptoms,\"Neurological and autonomic symptoms may persist after acute infection and can be debilitating.\"\n",
    "Quality of Life,\"Autonomic dysfunction can impair long-term health and quality of life in post-COVID patients.\"\n",
    "POTS Association,\"Postural orthostatic tachycardia syndrome (POTS) is increasingly recognized as a post-COVID condition.\"\n",
    "POTS Symptoms,\"POTS symptoms include fatigue, palpitations, and dizziness, significantly affecting daily life.\"\n",
    "POTS Diagnosis,\"Diagnosis of POTS is based on clinical criteria and may require specialized testing.\"\n",
    "POTS Treatment,\"Treatment options for POTS include lifestyle changes, medications, and physical therapy.\"\n",
    "POTS Research,\"Ongoing research is needed to understand the pathophysiology of POTS and its relationship with COVID-19.\"\n",
    "\"\"\"\n",
    "\n",
    "df = pd.read_csv(StringIO(csv_data))\n",
    "df.head()\n"
   ]
  }
 ],
 "metadata": {
  "kernelspec": {
   "display_name": "Python 3",
   "language": "python",
   "name": "python3"
  },
  "language_info": {
   "codemirror_mode": {
    "name": "ipython",
    "version": 3
   },
   "file_extension": ".py",
   "mimetype": "text/x-python",
   "name": "python",
   "nbconvert_exporter": "python",
   "pygments_lexer": "ipython3",
   "version": "3.13.2"
  }
 },
 "nbformat": 4,
 "nbformat_minor": 5
}
