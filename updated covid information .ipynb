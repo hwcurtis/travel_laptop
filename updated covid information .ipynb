{
 "cells": [
  {
   "cell_type": "markdown",
   "id": "c7e5b713",
   "metadata": {},
   "source": [
    "# COVID-19 Data Analysis\n",
    "This notebook loads and visualizes COVID-19 data by state.\n",
    "\n",
    "THIS being made into a Notebook, as requested files being made into notebook files, but this research primarily for my Tableau polrtion of this \n",
    "\n",
    "after clicking the run button this will break down the different states this year, when I researched the amount of cases....\n"
   ]
  },
  {
   "cell_type": "code",
   "execution_count": null,
   "id": "04413ad5",
   "metadata": {},
   "outputs": [],
   "source": [
    "import pandas as pd\n",
    "import matplotlib.pyplot as plt\n",
    "import seaborn as sns\n",
    "from io import StringIO"
   ]
  },
  {
   "cell_type": "code",
   "execution_count": null,
   "id": "96cc7e0f",
   "metadata": {},
   "outputs": [
    {
     "data": {
      "application/vnd.microsoft.datawrangler.viewer.v0+json": {
       "columns": [
        {
         "name": "index",
         "rawType": "int64",
         "type": "integer"
        },
        {
         "name": "state",
         "rawType": "object",
         "type": "string"
        },
        {
         "name": "date",
         "rawType": "object",
         "type": "string"
        },
        {
         "name": "median",
         "rawType": "float64",
         "type": "float"
        },
        {
         "name": "lower",
         "rawType": "float64",
         "type": "float"
        },
        {
         "name": "upper",
         "rawType": "float64",
         "type": "float"
        },
        {
         "name": "interval_width",
         "rawType": "float64",
         "type": "float"
        },
        {
         "name": "state_abb",
         "rawType": "object",
         "type": "string"
        },
        {
         "name": "is_plotted_date",
         "rawType": "bool",
         "type": "boolean"
        },
        {
         "name": "pathogen",
         "rawType": "object",
         "type": "string"
        },
        {
         "name": "ISO_3166_2",
         "rawType": "object",
         "type": "string"
        },
        {
         "name": "retrieved_date",
         "rawType": "object",
         "type": "string"
        }
       ],
       "ref": "51cda0b9-7cd5-4366-aac3-90f019e17c27",
       "rows": [
        [
         "0",
         "Connecticut",
         "2025-05-31",
         "0.9626",
         "0.9208",
         "0.9951",
         "0.95",
         "CT",
         "True",
         "COVID-19",
         "US-CT",
         "2025-07-08"
        ],
        [
         "1",
         "Georgia",
         "2025-05-23",
         "0.9718",
         "0.9344",
         "1.0062",
         "0.95",
         "GA",
         "True",
         "COVID-19",
         "US-GA",
         "2025-07-08"
        ],
        [
         "2",
         "California",
         "2025-05-14",
         "1.016",
         "0.9465",
         "1.1098",
         "0.95",
         "CA",
         "True",
         "COVID-19",
         "US-CA",
         "2025-07-08"
        ],
        [
         "3",
         "Illinois",
         "2025-05-14",
         "0.9589",
         "0.8883",
         "1.0221",
         "0.95",
         "IL",
         "True",
         "COVID-19",
         "US-IL",
         "2025-07-08"
        ],
        [
         "4",
         "Michigan",
         "2025-05-14",
         "0.9593",
         "0.8954",
         "1.0275",
         "0.95",
         "MI",
         "True",
         "COVID-19",
         "US-MI",
         "2025-07-08"
        ]
       ],
       "shape": {
        "columns": 11,
        "rows": 5
       }
      },
      "text/html": [
       "<div>\n",
       "<style scoped>\n",
       "    .dataframe tbody tr th:only-of-type {\n",
       "        vertical-align: middle;\n",
       "    }\n",
       "\n",
       "    .dataframe tbody tr th {\n",
       "        vertical-align: top;\n",
       "    }\n",
       "\n",
       "    .dataframe thead th {\n",
       "        text-align: right;\n",
       "    }\n",
       "</style>\n",
       "<table border=\"1\" class=\"dataframe\">\n",
       "  <thead>\n",
       "    <tr style=\"text-align: right;\">\n",
       "      <th></th>\n",
       "      <th>state</th>\n",
       "      <th>date</th>\n",
       "      <th>median</th>\n",
       "      <th>lower</th>\n",
       "      <th>upper</th>\n",
       "      <th>interval_width</th>\n",
       "      <th>state_abb</th>\n",
       "      <th>is_plotted_date</th>\n",
       "      <th>pathogen</th>\n",
       "      <th>ISO_3166_2</th>\n",
       "      <th>retrieved_date</th>\n",
       "    </tr>\n",
       "  </thead>\n",
       "  <tbody>\n",
       "    <tr>\n",
       "      <th>0</th>\n",
       "      <td>Connecticut</td>\n",
       "      <td>2025-05-31</td>\n",
       "      <td>0.9626</td>\n",
       "      <td>0.9208</td>\n",
       "      <td>0.9951</td>\n",
       "      <td>0.95</td>\n",
       "      <td>CT</td>\n",
       "      <td>True</td>\n",
       "      <td>COVID-19</td>\n",
       "      <td>US-CT</td>\n",
       "      <td>2025-07-08</td>\n",
       "    </tr>\n",
       "    <tr>\n",
       "      <th>1</th>\n",
       "      <td>Georgia</td>\n",
       "      <td>2025-05-23</td>\n",
       "      <td>0.9718</td>\n",
       "      <td>0.9344</td>\n",
       "      <td>1.0062</td>\n",
       "      <td>0.95</td>\n",
       "      <td>GA</td>\n",
       "      <td>True</td>\n",
       "      <td>COVID-19</td>\n",
       "      <td>US-GA</td>\n",
       "      <td>2025-07-08</td>\n",
       "    </tr>\n",
       "    <tr>\n",
       "      <th>2</th>\n",
       "      <td>California</td>\n",
       "      <td>2025-05-14</td>\n",
       "      <td>1.0160</td>\n",
       "      <td>0.9465</td>\n",
       "      <td>1.1098</td>\n",
       "      <td>0.95</td>\n",
       "      <td>CA</td>\n",
       "      <td>True</td>\n",
       "      <td>COVID-19</td>\n",
       "      <td>US-CA</td>\n",
       "      <td>2025-07-08</td>\n",
       "    </tr>\n",
       "    <tr>\n",
       "      <th>3</th>\n",
       "      <td>Illinois</td>\n",
       "      <td>2025-05-14</td>\n",
       "      <td>0.9589</td>\n",
       "      <td>0.8883</td>\n",
       "      <td>1.0221</td>\n",
       "      <td>0.95</td>\n",
       "      <td>IL</td>\n",
       "      <td>True</td>\n",
       "      <td>COVID-19</td>\n",
       "      <td>US-IL</td>\n",
       "      <td>2025-07-08</td>\n",
       "    </tr>\n",
       "    <tr>\n",
       "      <th>4</th>\n",
       "      <td>Michigan</td>\n",
       "      <td>2025-05-14</td>\n",
       "      <td>0.9593</td>\n",
       "      <td>0.8954</td>\n",
       "      <td>1.0275</td>\n",
       "      <td>0.95</td>\n",
       "      <td>MI</td>\n",
       "      <td>True</td>\n",
       "      <td>COVID-19</td>\n",
       "      <td>US-MI</td>\n",
       "      <td>2025-07-08</td>\n",
       "    </tr>\n",
       "  </tbody>\n",
       "</table>\n",
       "</div>"
      ],
      "text/plain": [
       "         state        date  median   lower   upper  interval_width state_abb  \\\n",
       "0  Connecticut  2025-05-31  0.9626  0.9208  0.9951            0.95        CT   \n",
       "1      Georgia  2025-05-23  0.9718  0.9344  1.0062            0.95        GA   \n",
       "2   California  2025-05-14  1.0160  0.9465  1.1098            0.95        CA   \n",
       "3     Illinois  2025-05-14  0.9589  0.8883  1.0221            0.95        IL   \n",
       "4     Michigan  2025-05-14  0.9593  0.8954  1.0275            0.95        MI   \n",
       "\n",
       "   is_plotted_date  pathogen ISO_3166_2 retrieved_date  \n",
       "0             True  COVID-19      US-CT     2025-07-08  \n",
       "1             True  COVID-19      US-GA     2025-07-08  \n",
       "2             True  COVID-19      US-CA     2025-07-08  \n",
       "3             True  COVID-19      US-IL     2025-07-08  \n",
       "4             True  COVID-19      US-MI     2025-07-08  "
      ]
     },
     "execution_count": 6,
     "metadata": {},
     "output_type": "execute_result"
    }
   ],
   "source": [
    "csv_data = \"\"\"state,date,median,lower,upper,interval_width,state_abb,is_plotted_date,pathogen,ISO_3166_2,retrieved_date\n",
    "Connecticut,2025-05-31,0.9626,0.9208,0.9951,0.95,CT,True,COVID-19,US-CT,2025-07-08\n",
    "Georgia,2025-05-23,0.9718,0.9344,1.0062,0.95,GA,True,COVID-19,US-GA,2025-07-08\n",
    "California,2025-05-14,1.016,0.9465,1.1098,0.95,CA,True,COVID-19,US-CA,2025-07-08\n",
    "Illinois,2025-05-14,0.9589,0.8883,1.0221,0.95,IL,True,COVID-19,US-IL,2025-07-08\n",
    "Michigan,2025-05-14,0.9593,0.8954,1.0275,0.95,MI,True,COVID-19,US-MI,2025-07-08\n",
    "Kentucky,2025-05-14,0.8961,0.7913,1.0006,0.95,KY,True,COVID-19,US-KY,2025-07-08\n",
    "Iowa,2025-05-27,0.8956,0.8449,0.9471,0.95,IA,True,COVID-19,US-IA,2025-07-08\n",
    "Louisiana,2025-07-05,1.1066,0.9952,1.2606,0.95,LA,True,COVID-19,US-LA,2025-07-08\n",
    "Maine,2025-05-14,0.9895,0.8635,1.1158,0.95,ME,True,COVID-19,US-ME,2025-07-08\n",
    "Texas,2025-05-14,0.9798,0.9337,1.0382,0.95,TX,True,COVID-19,US-TX,2025-07-08\n",
    "Florida,2025-05-14,1.0685,1.03,1.1209,0.95,FL,True,COVID-19,US-FL,2025-07-08\n",
    "North Carolina,2025-05-14,0.9603,0.8942,1.0458,0.95,NC,True,COVID-19,US-NC,2025-07-08\"\"\"\n",
    "df = pd.read_csv(StringIO(csv_data))\n",
    "df.head()"
   ]
  },
  {
   "cell_type": "code",
   "execution_count": null,
   "id": "9d62a67c",
   "metadata": {},
   "outputs": [
    {
     "name": "stderr",
     "output_type": "stream",
     "text": [
      "C:\\Users\\hopew\\AppData\\Local\\Temp\\ipykernel_25704\\2442472620.py:3: FutureWarning: \n",
      "\n",
      "Passing `palette` without assigning `hue` is deprecated and will be removed in v0.14.0. Assign the `x` variable to `hue` and set `legend=False` for the same effect.\n",
      "\n",
      "  sns.barplot(data=df, x='state_abb', y='median', palette='viridis')\n"
     ]
    },
    {
     "data": {
      "image/png": "[encoded data removed]",
      "text/plain": [
       "<Figure size 1200x600 with 1 Axes>"
      ]
     },
     "metadata": {},
     "output_type": "display_data"
    }
   ],
   "source": [
    "# Plotting median values by state\n",
    "plt.figure(figsize=(12, 6))\n",
    "sns.barplot(data=df, x='state_abb', y='median', palette='viridis')\n",
    "plt.title('COVID-19 Median Value by State')\n",
    "plt.ylabel('Median')\n",
    "plt.xlabel('State')\n",
    "plt.xticks(rotation=45)\n",
    "plt.tight_layout()\n",
    "plt.show()"
   ]
  }
 ],
 "metadata": {
  "kernelspec": {
   "display_name": "Python 3",
   "language": "python",
   "name": "python3"
  },
  "language_info": {
   "codemirror_mode": {
    "name": "ipython",
    "version": 3
   },
   "file_extension": ".py",
   "mimetype": "text/x-python",
   "name": "python",
   "nbconvert_exporter": "python",
   "pygments_lexer": "ipython3",
   "version": "3.13.2"
  }
 },
 "nbformat": 4,
 "nbformat_minor": 5
}
