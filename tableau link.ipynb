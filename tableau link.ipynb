{
 "cells": [
  {
   "cell_type": "code",
   "execution_count": null,
   "id": "92f91985",
   "metadata": {},
   "outputs": [],
   "source": [
    "This script is used to download a Tableau visualization as an image.\n",
    "\n",
    "https: // public.tableau.com/app/profile/hope.curtis/viz/Similar_17534886471550/OVERVIEWOFCovid?publish = yes"
   ]
  }
 ],
 "metadata": {
  "language_info": {
   "name": "python"
  }
 },
 "nbformat": 4,
 "nbformat_minor": 5
}
